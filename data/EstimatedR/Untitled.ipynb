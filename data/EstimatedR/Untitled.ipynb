{
 "cells": [
  {
   "cell_type": "code",
   "execution_count": 3,
   "metadata": {},
   "outputs": [],
   "source": [
    "import os\n",
    "import glob\n",
    "import re\n",
    "import scipy.io as io"
   ]
  },
  {
   "cell_type": "code",
   "execution_count": 34,
   "metadata": {},
   "outputs": [],
   "source": [
    "def get_spectral_R_estimated(data_name, sigma):\n",
    "    path_list = glob.glob(os.path.join('./','*.mat'))\n",
    "    path_list_lower = [filename.lower() for filename in path_list]\n",
    "    print(path_list,'\\n')\n",
    "    print(path_list_lower,'\\n')\n",
    "    for index, path in enumerate(path_list_lower):\n",
    "        if path.find(data_name) >=0 and path.find(str(sigma)) >=0:\n",
    "            estimated_R = io.loadmat(path_list[index])['R'].transpose(1,0)\n",
    "            print(path)\n",
    "            print(sigma)\n",
    "            print(index)\n",
    "            break\n",
    "    return estimated_R"
   ]
  },
  {
   "cell_type": "code",
   "execution_count": 35,
   "metadata": {},
   "outputs": [
    {
     "name": "stdout",
     "output_type": "stream",
     "text": [
      "['./WaDC_0.5_R.mat', './IndianP_0.5_R.mat', './PaviaU_2_R.mat', './IndianP_4_R.mat', './cave_2_R.mat', './WaDC_4_R.mat', './PaviaU_0.5_R.mat', './cave_4_R.mat', './IndianP_2_R.mat', './PaviaU_4_R.mat', './WaDC_2_R.mat', './cave_0.5_R.mat'] \n",
      "\n",
      "['./wadc_0.5_r.mat', './indianp_0.5_r.mat', './paviau_2_r.mat', './indianp_4_r.mat', './cave_2_r.mat', './wadc_4_r.mat', './paviau_0.5_r.mat', './cave_4_r.mat', './indianp_2_r.mat', './paviau_4_r.mat', './wadc_2_r.mat', './cave_0.5_r.mat'] \n",
      "\n",
      "./cave_0.5_r.mat\n",
      "0.5\n",
      "11\n"
     ]
    }
   ],
   "source": [
    "test = get_spectral_R_estimated('cave',0.5)"
   ]
  },
  {
   "cell_type": "code",
   "execution_count": 36,
   "metadata": {},
   "outputs": [
    {
     "data": {
      "text/plain": [
       "(31, 3)"
      ]
     },
     "execution_count": 36,
     "metadata": {},
     "output_type": "execute_result"
    }
   ],
   "source": [
    "test.shape"
   ]
  },
  {
   "cell_type": "code",
   "execution_count": 33,
   "metadata": {},
   "outputs": [
    {
     "data": {
      "text/plain": [
       "0"
      ]
     },
     "execution_count": 33,
     "metadata": {},
     "output_type": "execute_result"
    }
   ],
   "source": [
    "'./WaDC_0.5_R.mat'.find('.')"
   ]
  },
  {
   "cell_type": "code",
   "execution_count": null,
   "metadata": {},
   "outputs": [],
   "source": []
  }
 ],
 "metadata": {
  "kernelspec": {
   "display_name": "Python 3",
   "language": "python",
   "name": "python3"
  },
  "language_info": {
   "codemirror_mode": {
    "name": "ipython",
    "version": 3
   },
   "file_extension": ".py",
   "mimetype": "text/x-python",
   "name": "python",
   "nbconvert_exporter": "python",
   "pygments_lexer": "ipython3",
   "version": "3.6.2"
  }
 },
 "nbformat": 4,
 "nbformat_minor": 2
}
